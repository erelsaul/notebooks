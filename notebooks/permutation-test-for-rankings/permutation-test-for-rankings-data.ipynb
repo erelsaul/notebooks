{
 "cells": [
  {
   "cell_type": "markdown",
   "metadata": {},
   "source": [
    "# Permutation test for ranking data\n",
    "\n",
    "Can we use permutation tests to test the hypothesis that rankings are different between 2 groups?\n",
    "\n",
    "Some simulations inspired by the following Stats Exchange question:\n",
    "https://stats.stackexchange.com/questions/51295/comparison-of-ranked-lists:\n",
    "\n",
    "> Suppose that two groups, comprising n1n1 and n2n2 each rank a set of 25 items from most to least important. What are the best ways to compare these rankings?\n",
    "\n",
    "> Clearly, it is possible to do 25 Mann-Whitney U tests, but this would result in 25 test results to interpret, which may be too much (and, in strict use, brings up questions of multiple comparisons). It is also not completely clear to me that the ranks satisfy all the assumptions of this test.\n",
    "\n",
    "> I would also be interested in pointers to literature on rating vs. ranking.\n",
    "\n",
    "> Some context: These 25 items all relate to education and the two groups are different types of educators. Both groups are small."
   ]
  },
  {
   "cell_type": "code",
   "execution_count": 1,
   "metadata": {
    "collapsed": true
   },
   "outputs": [],
   "source": [
    "import random\n",
    "\n",
    "import numpy as np\n",
    "import toolz as tz\n",
    "\n",
    "import numpy.linalg\n",
    "\n",
    "import toyplot as tp"
   ]
  },
  {
   "cell_type": "markdown",
   "metadata": {},
   "source": [
    "## Functions to generate some data"
   ]
  },
  {
   "cell_type": "code",
   "execution_count": 14,
   "metadata": {},
   "outputs": [],
   "source": [
    "def isodd(x):\n",
    "    return x % 2 == 1\n",
    "\n",
    "def sort_indices(values):\n",
    "    \"\"\"\n",
    "    Return a sorted list of indices based on the values,\n",
    "    i.e. first element is the index of the smallest value and\n",
    "    the last element is the index of the largest value\n",
    "    \"\"\"\n",
    "    return sorted(range(len(values)), key=lambda i: values[i])\n",
    "\n",
    "def generate_groupA(d):\n",
    "    \"\"\"\n",
    "    Group A: small indices have a small advantage\n",
    "    \"\"\"\n",
    "    scores = [random.random() + 0.1*i for i in range(d)]\n",
    "    return sort_indices(scores)\n",
    "\n",
    "def generate_groupB(d):\n",
    "    \"\"\"\n",
    "    Group B: small indices and even numbers have small advantage\n",
    "    \"\"\"\n",
    "    scores = [random.random() + 0.1 * i + 0.15 * isodd(i) for i in range(d)]\n",
    "    return sort_indices(scores)"
   ]
  },
  {
   "cell_type": "markdown",
   "metadata": {},
   "source": [
    "## Define comparison"
   ]
  },
  {
   "cell_type": "code",
   "execution_count": 3,
   "metadata": {},
   "outputs": [],
   "source": [
    "def top_vote(s):\n",
    "    \"\"\"How often did each option get voted first?\"\"\"\n",
    "    scores = [0 for _ in range(len(s))]\n",
    "    scores[s[0]] = 1\n",
    "    return scores\n",
    "\n",
    "def points(s):\n",
    "    \"\"\"\n",
    "    Aggregate votes by option i getting rank(i) points\n",
    "    \"\"\"\n",
    "    scores = [0 for _ in range(len(s))]\n",
    "    for i, _ in enumerate(s):\n",
    "        scores[s[i]] = i\n",
    "    return scores\n",
    "\n",
    "def diff_l2(x, y):\n",
    "    return np.linalg.norm(x-y)\n",
    "\n",
    "def diff_l1(x, y):\n",
    "    return np.linalg.norm(x-y, 1)"
   ]
  },
  {
   "cell_type": "code",
   "execution_count": 21,
   "metadata": {},
   "outputs": [],
   "source": [
    "def compute_diff(groupA, groupB, aggregator, comparator):\n",
    "    \"\"\"\n",
    "    Compute differences between group A and group B\n",
    "    \n",
    "    aggregator: how to aggregate the rankings of voters\n",
    "    comparator: how to compare the outcomes between the aggregations\n",
    "    of the two groups\n",
    "    \"\"\"\n",
    "    # Compute the mean aggregator function across voters for both groups\n",
    "    # Returns n_options-dimensional vector for each group of votes\n",
    "    value_A = np.mean(list(tz.map(aggregator, groupA)), axis=0)\n",
    "    value_B = np.mean(list(tz.map(aggregator, groupB)), axis=0)\n",
    "\n",
    "    # Compare the two outputs\n",
    "    return comparator(value_A, value_B), value_A, value_B"
   ]
  },
  {
   "cell_type": "markdown",
   "metadata": {},
   "source": [
    "## Permutation test"
   ]
  },
  {
   "cell_type": "code",
   "execution_count": 47,
   "metadata": {
    "collapsed": true
   },
   "outputs": [],
   "source": [
    "def permutation_test(groupA, groupB, aggregator, comparator):\n",
    "    \"\"\"\n",
    "    Permutation test: combine, shuffle, split, compute test statistic (repeat)\n",
    "    \"\"\"\n",
    "    aggregated_data = groupA + groupB\n",
    "    n = len(groupA)\n",
    "    \n",
    "    shuffled_data = np.random.permutation(aggregated_data)\n",
    "    newA = shuffled_data[:n]\n",
    "    newB = shuffled_data[n:]\n",
    "    test_statistic, _, _ = compute_diff(newA, newB, aggregator, comparator)\n",
    "    return test_statistic\n",
    "\n",
    "def pvalue(Tstar, Tpermutations):\n",
    "    return sum(1 for T in Tpermutations if T > Tstar) / (len(Tpermutations))"
   ]
  },
  {
   "cell_type": "markdown",
   "metadata": {},
   "source": [
    "## Generate data and test"
   ]
  },
  {
   "cell_type": "code",
   "execution_count": 48,
   "metadata": {},
   "outputs": [],
   "source": [
    "number_of_items = 7\n",
    "number_votersA, number_votersB = 50, 80\n",
    "\n",
    "votes_A = [generate_groupA(number_of_items) for _ in range(number_votersA)]\n",
    "votes_B = [generate_groupB(number_of_items) for _ in range(number_votersB)]"
   ]
  },
  {
   "cell_type": "code",
   "execution_count": 49,
   "metadata": {},
   "outputs": [
    {
     "data": {
      "text/plain": [
       "<toyplot.mark.AxisLines at 0x1054e7ba8>"
      ]
     },
     "execution_count": 49,
     "metadata": {},
     "output_type": "execute_result"
    },
    {
     "data": {
      "text/html": [
       "<div align=\"center\" class=\"toyplot\" id=\"te2a0575e57df475bb51ba48c7c4fa6d8\"><svg class=\"toyplot-canvas-Canvas\" height=\"300.0px\" id=\"td09f3eb5aabf409a9d62f83e307417c8\" preserveAspectRatio=\"xMidYMid meet\" style=\"background-color:transparent;fill:rgb(16.1%,15.3%,14.1%);fill-opacity:1.0;font-family:Helvetica;font-size:12px;opacity:1.0;stroke:rgb(16.1%,15.3%,14.1%);stroke-opacity:1.0;stroke-width:1.0\" viewBox=\"0 0 500.0 300.0\" width=\"500.0px\" xmlns=\"http://www.w3.org/2000/svg\" xmlns:toyplot=\"http://www.sandia.gov/toyplot\" xmlns:xlink=\"http://www.w3.org/1999/xlink\"><g class=\"toyplot-coordinates-Cartesian\" id=\"t12096b41128549b5adf59a113123b8b9\"><clipPath id=\"t4500d57aa5784e25840e0c6934838183\"><rect height=\"220.0\" width=\"420.0\" x=\"40.0\" y=\"40.0\"></rect></clipPath><g clip-path=\"url(#t4500d57aa5784e25840e0c6934838183)\"><g class=\"toyplot-mark-BarMagnitudes\" id=\"t0b1daec2fd2f48ffacaa6d74971e8ed9\" style=\"stroke:rgb(100%,100%,100%);stroke-opacity:1.0;stroke-width:1.0\"><g class=\"toyplot-Series\"><rect class=\"toyplot-Datum\" height=\"1.7636684303350876\" style=\"fill:rgb(40%,76.1%,64.7%);fill-opacity:1.0;opacity:1.0;stroke:rgb(100%,100%,100%);stroke-opacity:1.0;stroke-width:1.0\" width=\"12.599999999999994\" x=\"69.5\" y=\"248.23633156966491\"></rect><rect class=\"toyplot-Datum\" height=\"1.7636684303350876\" style=\"fill:rgb(40%,76.1%,64.7%);fill-opacity:1.0;opacity:1.0;stroke:rgb(100%,100%,100%);stroke-opacity:1.0;stroke-width:1.0\" width=\"12.600000000000023\" x=\"82.099999999999994\" y=\"248.23633156966491\"></rect><rect class=\"toyplot-Datum\" height=\"5.2910052910052912\" style=\"fill:rgb(40%,76.1%,64.7%);fill-opacity:1.0;opacity:1.0;stroke:rgb(100%,100%,100%);stroke-opacity:1.0;stroke-width:1.0\" width=\"12.599999999999994\" x=\"94.700000000000017\" y=\"244.70899470899471\"></rect><rect class=\"toyplot-Datum\" height=\"22.927689594356252\" style=\"fill:rgb(40%,76.1%,64.7%);fill-opacity:1.0;opacity:1.0;stroke:rgb(100%,100%,100%);stroke-opacity:1.0;stroke-width:1.0\" width=\"12.599999999999994\" x=\"107.30000000000001\" y=\"227.07231040564375\"></rect><rect class=\"toyplot-Datum\" height=\"42.328042328042329\" style=\"fill:rgb(40%,76.1%,64.7%);fill-opacity:1.0;opacity:1.0;stroke:rgb(100%,100%,100%);stroke-opacity:1.0;stroke-width:1.0\" width=\"12.599999999999994\" x=\"119.90000000000001\" y=\"207.67195767195767\"></rect><rect class=\"toyplot-Datum\" height=\"74.074074074074048\" style=\"fill:rgb(40%,76.1%,64.7%);fill-opacity:1.0;opacity:1.0;stroke:rgb(100%,100%,100%);stroke-opacity:1.0;stroke-width:1.0\" width=\"12.600000000000023\" x=\"132.5\" y=\"175.92592592592595\"></rect><rect class=\"toyplot-Datum\" height=\"91.710758377425037\" style=\"fill:rgb(40%,76.1%,64.7%);fill-opacity:1.0;opacity:1.0;stroke:rgb(100%,100%,100%);stroke-opacity:1.0;stroke-width:1.0\" width=\"12.599999999999966\" x=\"145.10000000000002\" y=\"158.28924162257496\"></rect><rect class=\"toyplot-Datum\" height=\"128.74779541446205\" style=\"fill:rgb(40%,76.1%,64.7%);fill-opacity:1.0;opacity:1.0;stroke:rgb(100%,100%,100%);stroke-opacity:1.0;stroke-width:1.0\" width=\"12.600000000000023\" x=\"157.69999999999999\" y=\"121.25220458553795\"></rect><rect class=\"toyplot-Datum\" height=\"144.62081128747789\" style=\"fill:rgb(40%,76.1%,64.7%);fill-opacity:1.0;opacity:1.0;stroke:rgb(100%,100%,100%);stroke-opacity:1.0;stroke-width:1.0\" width=\"12.599999999999966\" x=\"170.30000000000001\" y=\"105.37918871252211\"></rect><rect class=\"toyplot-Datum\" height=\"186.94885361552022\" style=\"fill:rgb(40%,76.1%,64.7%);fill-opacity:1.0;opacity:1.0;stroke:rgb(100%,100%,100%);stroke-opacity:1.0;stroke-width:1.0\" width=\"12.600000000000023\" x=\"182.89999999999998\" y=\"63.051146384479772\"></rect><rect class=\"toyplot-Datum\" height=\"178.13051146384475\" style=\"fill:rgb(40%,76.1%,64.7%);fill-opacity:1.0;opacity:1.0;stroke:rgb(100%,100%,100%);stroke-opacity:1.0;stroke-width:1.0\" width=\"12.599999999999994\" x=\"195.5\" y=\"71.869488536155245\"></rect><rect class=\"toyplot-Datum\" height=\"135.80246913580243\" style=\"fill:rgb(40%,76.1%,64.7%);fill-opacity:1.0;opacity:1.0;stroke:rgb(100%,100%,100%);stroke-opacity:1.0;stroke-width:1.0\" width=\"12.599999999999994\" x=\"208.09999999999999\" y=\"114.19753086419757\"></rect><rect class=\"toyplot-Datum\" height=\"169.31216931216929\" style=\"fill:rgb(40%,76.1%,64.7%);fill-opacity:1.0;opacity:1.0;stroke:rgb(100%,100%,100%);stroke-opacity:1.0;stroke-width:1.0\" width=\"12.600000000000023\" x=\"220.69999999999999\" y=\"80.687830687830711\"></rect><rect class=\"toyplot-Datum\" height=\"125.22045855379184\" style=\"fill:rgb(40%,76.1%,64.7%);fill-opacity:1.0;opacity:1.0;stroke:rgb(100%,100%,100%);stroke-opacity:1.0;stroke-width:1.0\" width=\"12.599999999999994\" x=\"233.30000000000001\" y=\"124.77954144620816\"></rect><rect class=\"toyplot-Datum\" height=\"137.56613756613754\" style=\"fill:rgb(40%,76.1%,64.7%);fill-opacity:1.0;opacity:1.0;stroke:rgb(100%,100%,100%);stroke-opacity:1.0;stroke-width:1.0\" width=\"12.599999999999994\" x=\"245.90000000000001\" y=\"112.43386243386246\"></rect><rect class=\"toyplot-Datum\" height=\"102.29276895943559\" style=\"fill:rgb(40%,76.1%,64.7%);fill-opacity:1.0;opacity:1.0;stroke:rgb(100%,100%,100%);stroke-opacity:1.0;stroke-width:1.0\" width=\"12.600000000000023\" x=\"258.5\" y=\"147.70723104056441\"></rect><rect class=\"toyplot-Datum\" height=\"52.910052910052883\" style=\"fill:rgb(40%,76.1%,64.7%);fill-opacity:1.0;opacity:1.0;stroke:rgb(100%,100%,100%);stroke-opacity:1.0;stroke-width:1.0\" width=\"12.599999999999966\" x=\"271.10000000000002\" y=\"197.08994708994712\"></rect><rect class=\"toyplot-Datum\" height=\"52.910052910052883\" style=\"fill:rgb(40%,76.1%,64.7%);fill-opacity:1.0;opacity:1.0;stroke:rgb(100%,100%,100%);stroke-opacity:1.0;stroke-width:1.0\" width=\"12.600000000000023\" x=\"283.69999999999999\" y=\"197.08994708994712\"></rect><rect class=\"toyplot-Datum\" height=\"35.273368606701922\" style=\"fill:rgb(40%,76.1%,64.7%);fill-opacity:1.0;opacity:1.0;stroke:rgb(100%,100%,100%);stroke-opacity:1.0;stroke-width:1.0\" width=\"12.600000000000023\" x=\"296.30000000000001\" y=\"214.72663139329808\"></rect><rect class=\"toyplot-Datum\" height=\"31.746031746031747\" style=\"fill:rgb(40%,76.1%,64.7%);fill-opacity:1.0;opacity:1.0;stroke:rgb(100%,100%,100%);stroke-opacity:1.0;stroke-width:1.0\" width=\"12.599999999999966\" x=\"308.90000000000003\" y=\"218.25396825396825\"></rect><rect class=\"toyplot-Datum\" height=\"19.400352733686049\" style=\"fill:rgb(40%,76.1%,64.7%);fill-opacity:1.0;opacity:1.0;stroke:rgb(100%,100%,100%);stroke-opacity:1.0;stroke-width:1.0\" width=\"12.600000000000023\" x=\"321.5\" y=\"230.59964726631395\"></rect><rect class=\"toyplot-Datum\" height=\"10.582010582010582\" style=\"fill:rgb(40%,76.1%,64.7%);fill-opacity:1.0;opacity:1.0;stroke:rgb(100%,100%,100%);stroke-opacity:1.0;stroke-width:1.0\" width=\"12.600000000000023\" x=\"334.10000000000002\" y=\"239.41798941798942\"></rect><rect class=\"toyplot-Datum\" height=\"0.0\" style=\"fill:rgb(40%,76.1%,64.7%);fill-opacity:1.0;opacity:1.0;stroke:rgb(100%,100%,100%);stroke-opacity:1.0;stroke-width:1.0\" width=\"12.599999999999909\" x=\"346.70000000000005\" y=\"250.0\"></rect><rect class=\"toyplot-Datum\" height=\"3.5273368606702036\" style=\"fill:rgb(40%,76.1%,64.7%);fill-opacity:1.0;opacity:1.0;stroke:rgb(100%,100%,100%);stroke-opacity:1.0;stroke-width:1.0\" width=\"12.60000000000008\" x=\"359.29999999999995\" y=\"246.4726631393298\"></rect><rect class=\"toyplot-Datum\" height=\"3.5273368606702036\" style=\"fill:rgb(40%,76.1%,64.7%);fill-opacity:1.0;opacity:1.0;stroke:rgb(100%,100%,100%);stroke-opacity:1.0;stroke-width:1.0\" width=\"12.599999999999966\" x=\"371.90000000000003\" y=\"246.4726631393298\"></rect><rect class=\"toyplot-Datum\" height=\"0.0\" style=\"fill:rgb(40%,76.1%,64.7%);fill-opacity:1.0;opacity:1.0;stroke:rgb(100%,100%,100%);stroke-opacity:1.0;stroke-width:1.0\" width=\"12.600000000000023\" x=\"384.5\" y=\"250.0\"></rect><rect class=\"toyplot-Datum\" height=\"1.7636684303350876\" style=\"fill:rgb(40%,76.1%,64.7%);fill-opacity:1.0;opacity:1.0;stroke:rgb(100%,100%,100%);stroke-opacity:1.0;stroke-width:1.0\" width=\"12.600000000000023\" x=\"397.10000000000002\" y=\"248.23633156966491\"></rect><rect class=\"toyplot-Datum\" height=\"1.7636684303350876\" style=\"fill:rgb(40%,76.1%,64.7%);fill-opacity:1.0;opacity:1.0;stroke:rgb(100%,100%,100%);stroke-opacity:1.0;stroke-width:1.0\" width=\"12.599999999999909\" x=\"409.70000000000005\" y=\"248.23633156966491\"></rect><rect class=\"toyplot-Datum\" height=\"0.0\" style=\"fill:rgb(40%,76.1%,64.7%);fill-opacity:1.0;opacity:1.0;stroke:rgb(100%,100%,100%);stroke-opacity:1.0;stroke-width:1.0\" width=\"12.60000000000008\" x=\"422.29999999999995\" y=\"250.0\"></rect><rect class=\"toyplot-Datum\" height=\"1.7636684303350876\" style=\"fill:rgb(40%,76.1%,64.7%);fill-opacity:1.0;opacity:1.0;stroke:rgb(100%,100%,100%);stroke-opacity:1.0;stroke-width:1.0\" width=\"12.600000000000023\" x=\"434.90000000000003\" y=\"248.23633156966491\"></rect></g></g><g class=\"toyplot-mark-AxisLines\" id=\"t829e9b91438c47688b8aae96d89b14ee\" style=\"\"><g class=\"toyplot-Series\"><line class=\"toyplot-Datum\" style=\"opacity:1.0;stroke:rgb(100%,0%,0%);stroke-opacity:1.0\" x1=\"425.00000000000006\" x2=\"425.00000000000006\" y1=\"50.0\" y2=\"250.0\"></line></g></g></g><g class=\"toyplot-coordinates-Axis\" id=\"t0e7faf20bb754b1ca8759d55a1fa4d5b\" transform=\"translate(50.0,250.0)translate(0,10.0)\"><line style=\"\" x1=\"19.500000000000007\" x2=\"397.50000000000006\" y1=\"0\" y2=\"0\"></line><g><text style=\"dominant-baseline:hanging;font-size:10px;font-weight:normal;stroke:none;text-anchor:middle\" transform=\"translate(0.0,6)\"><tspan style=\"dominant-baseline:inherit\">0</tspan></text><text style=\"dominant-baseline:hanging;font-size:10px;font-weight:normal;stroke:none;text-anchor:middle\" transform=\"translate(100.0,6)\"><tspan style=\"dominant-baseline:inherit\">1</tspan></text><text style=\"dominant-baseline:hanging;font-size:10px;font-weight:normal;stroke:none;text-anchor:middle\" transform=\"translate(200.0,6)\"><tspan style=\"dominant-baseline:inherit\">2</tspan></text><text style=\"dominant-baseline:hanging;font-size:10px;font-weight:normal;stroke:none;text-anchor:middle\" transform=\"translate(300.0,6)\"><tspan style=\"dominant-baseline:inherit\">3</tspan></text><text style=\"dominant-baseline:hanging;font-size:10px;font-weight:normal;stroke:none;text-anchor:middle\" transform=\"translate(400.0,6)\"><tspan style=\"dominant-baseline:inherit\">4</tspan></text></g><text style=\"dominant-baseline:hanging;font-size:12px;font-weight:bold;stroke:none;text-anchor:middle\" transform=\"translate(200.0,22)\"><tspan style=\"dominant-baseline:inherit\">Test statistic</tspan></text><g class=\"toyplot-coordinates-Axis-coordinates\" style=\"visibility:hidden\" transform=\"\"><line style=\"stroke:rgb(43.9%,50.2%,56.5%);stroke-opacity:1.0;stroke-width:1.0\" x1=\"0\" x2=\"0\" y1=\"-3.0\" y2=\"4.5\"></line><text style=\"alignment-baseline:alphabetic;fill:rgb(43.9%,50.2%,56.5%);fill-opacity:1.0;font-size:10px;font-weight:normal;stroke:none;text-anchor:middle\" x=\"0\" y=\"-6\"></text></g></g><g class=\"toyplot-coordinates-Axis\" id=\"t907d18fe8a2248048f9a2aa44e92b5c5\" transform=\"translate(50.0,250.0)rotate(-90.0)translate(0,-10.0)\"><line style=\"\" x1=\"0\" x2=\"186.94885361552022\" y1=\"0\" y2=\"0\"></line><g><text style=\"dominant-baseline:alphabetic;font-size:10px;font-weight:normal;stroke:none;text-anchor:middle\" transform=\"translate(0.0,-6)\"><tspan style=\"dominant-baseline:inherit\">0.0</tspan></text><text style=\"dominant-baseline:alphabetic;font-size:10px;font-weight:normal;stroke:none;text-anchor:middle\" transform=\"translate(66.66666666666666,-6)\"><tspan style=\"dominant-baseline:inherit\">0.3</tspan></text><text style=\"dominant-baseline:alphabetic;font-size:10px;font-weight:normal;stroke:none;text-anchor:middle\" transform=\"translate(133.33333333333331,-6)\"><tspan style=\"dominant-baseline:inherit\">0.6</tspan></text><text style=\"dominant-baseline:alphabetic;font-size:10px;font-weight:normal;stroke:none;text-anchor:middle\" transform=\"translate(200.0,-6)\"><tspan style=\"dominant-baseline:inherit\">0.9</tspan></text></g><text style=\"dominant-baseline:alphabetic;font-size:12px;font-weight:bold;stroke:none;text-anchor:middle\" transform=\"translate(100.0,-22)\"><tspan style=\"dominant-baseline:inherit\">Density under null</tspan></text><g class=\"toyplot-coordinates-Axis-coordinates\" style=\"visibility:hidden\" transform=\"\"><line style=\"stroke:rgb(43.9%,50.2%,56.5%);stroke-opacity:1.0;stroke-width:1.0\" x1=\"0\" x2=\"0\" y1=\"3.0\" y2=\"-4.5\"></line><text style=\"alignment-baseline:hanging;fill:rgb(43.9%,50.2%,56.5%);fill-opacity:1.0;font-size:10px;font-weight:normal;stroke:none;text-anchor:middle\" x=\"0\" y=\"6\"></text></g></g><text style=\"dominant-baseline:middle;font-size:14px;font-weight:bold;stroke:none;text-anchor:middle\" transform=\"translate(250.0,50.0)translate(0,-14.0)\"><tspan style=\"dominant-baseline:inherit\">Histogram of permutation test</tspan></text></g></svg><div class=\"toyplot-interactive\"><ul class=\"toyplot-mark-popup\" onmouseleave=\"this.style.visibility='hidden'\" style=\"background:rgba(0%,0%,0%,0.75);border:0;border-radius:6px;color:white;cursor:default;list-style:none;margin:0;padding:5px;position:fixed;visibility:hidden\">\n",
       "            <li class=\"toyplot-mark-popup-title\" style=\"color:lightgray;cursor:default;padding:5px;list-style:none;margin:0\"></li>\n",
       "            <li class=\"toyplot-mark-popup-save-csv\" onmouseout=\"this.style.color='white';this.style.background='steelblue'\" onmouseover=\"this.style.color='steelblue';this.style.background='white'\" style=\"border-radius:3px;padding:5px;list-style:none;margin:0\">\n",
       "                Save as .csv\n",
       "            </li>\n",
       "        </ul><script>\n",
       "        (function()\n",
       "        {\n",
       "          var data_tables = [{\"id\": \"t0b1daec2fd2f48ffacaa6d74971e8ed9\", \"filename\": \"toyplot\", \"title\": \"Bar Data\", \"names\": [\"left\", \"right\", \"baseline\", \"magnitude0\"], \"columns\": [[0.19500000000000006, 0.32100000000000006, 0.44700000000000006, 0.5730000000000001, 0.6990000000000001, 0.8250000000000001, 0.9510000000000001, 1.077, 1.203, 1.329, 1.455, 1.5810000000000002, 1.707, 1.833, 1.959, 2.085, 2.2110000000000003, 2.3369999999999997, 2.463, 2.5890000000000004, 2.715, 2.841, 2.9670000000000005, 3.093, 3.2190000000000003, 3.3449999999999998, 3.471, 3.5970000000000004, 3.723, 3.849], [0.32100000000000006, 0.44700000000000006, 0.5730000000000001, 0.6990000000000001, 0.8250000000000001, 0.9510000000000001, 1.077, 1.203, 1.329, 1.455, 1.5810000000000002, 1.707, 1.833, 1.959, 2.085, 2.2110000000000003, 2.3369999999999997, 2.463, 2.5890000000000004, 2.715, 2.841, 2.9670000000000005, 3.093, 3.2190000000000003, 3.3449999999999998, 3.471, 3.5970000000000004, 3.723, 3.849, 3.9750000000000005], [0.0, 0.0, 0.0, 0.0, 0.0, 0.0, 0.0, 0.0, 0.0, 0.0, 0.0, 0.0, 0.0, 0.0, 0.0, 0.0, 0.0, 0.0, 0.0, 0.0, 0.0, 0.0, 0.0, 0.0, 0.0, 0.0, 0.0, 0.0, 0.0, 0.0], [0.007936507936507936, 0.007936507936507936, 0.023809523809523808, 0.10317460317460317, 0.19047619047619047, 0.3333333333333333, 0.4126984126984127, 0.5793650793650793, 0.6507936507936507, 0.8412698412698412, 0.8015873015873015, 0.611111111111111, 0.7619047619047619, 0.5634920634920634, 0.619047619047619, 0.4603174603174603, 0.23809523809523808, 0.23809523809523808, 0.15873015873015872, 0.14285714285714285, 0.0873015873015873, 0.047619047619047616, 0.0, 0.015873015873015872, 0.015873015873015872, 0.0, 0.007936507936507936, 0.007936507936507936, 0.0, 0.007936507936507936]]}];\n",
       "\n",
       "          function save_csv(data_table)\n",
       "          {\n",
       "            var uri = \"data:text/csv;charset=utf-8,\";\n",
       "            uri += data_table.names.join(\",\") + \"\\n\";\n",
       "            for(var i = 0; i != data_table.columns[0].length; ++i)\n",
       "            {\n",
       "              for(var j = 0; j != data_table.columns.length; ++j)\n",
       "              {\n",
       "                if(j)\n",
       "                  uri += \",\";\n",
       "                uri += data_table.columns[j][i];\n",
       "              }\n",
       "              uri += \"\\n\";\n",
       "            }\n",
       "            uri = encodeURI(uri);\n",
       "\n",
       "            var link = document.createElement(\"a\");\n",
       "            if(typeof link.download != \"undefined\")\n",
       "            {\n",
       "              link.href = uri;\n",
       "              link.style = \"visibility:hidden\";\n",
       "              link.download = data_table.filename + \".csv\";\n",
       "\n",
       "              document.body.appendChild(link);\n",
       "              link.click();\n",
       "              document.body.removeChild(link);\n",
       "            }\n",
       "            else\n",
       "            {\n",
       "              window.open(uri);\n",
       "            }\n",
       "          }\n",
       "\n",
       "          function open_popup(data_table)\n",
       "          {\n",
       "            return function(e)\n",
       "            {\n",
       "              var popup = document.querySelector(\"#te2a0575e57df475bb51ba48c7c4fa6d8 .toyplot-mark-popup\");\n",
       "              popup.querySelector(\".toyplot-mark-popup-title\").innerHTML = data_table.title;\n",
       "              popup.querySelector(\".toyplot-mark-popup-save-csv\").onclick = function() { popup.style.visibility = \"hidden\"; save_csv(data_table); }\n",
       "              popup.style.left = (e.clientX - 50) + \"px\";\n",
       "              popup.style.top = (e.clientY - 20) + \"px\";\n",
       "              popup.style.visibility = \"visible\";\n",
       "              e.stopPropagation();\n",
       "              e.preventDefault();\n",
       "            }\n",
       "\n",
       "          }\n",
       "\n",
       "          for(var i = 0; i != data_tables.length; ++i)\n",
       "          {\n",
       "            var data_table = data_tables[i];\n",
       "            var event_target = document.querySelector(\"#\" + data_table.id);\n",
       "            event_target.oncontextmenu = open_popup(data_table);\n",
       "          }\n",
       "        })();\n",
       "        </script><script>\n",
       "        (function()\n",
       "        {\n",
       "            function _sign(x)\n",
       "            {\n",
       "                return x < 0 ? -1 : x > 0 ? 1 : 0;\n",
       "            }\n",
       "\n",
       "            function _mix(a, b, amount)\n",
       "            {\n",
       "                return ((1.0 - amount) * a) + (amount * b);\n",
       "            }\n",
       "\n",
       "            function _log(x, base)\n",
       "            {\n",
       "                return Math.log(Math.abs(x)) / Math.log(base);\n",
       "            }\n",
       "\n",
       "            function _in_range(a, x, b)\n",
       "            {\n",
       "                var left = Math.min(a, b);\n",
       "                var right = Math.max(a, b);\n",
       "                return left <= x && x <= right;\n",
       "            }\n",
       "\n",
       "            function inside(range, projection)\n",
       "            {\n",
       "                for(var i = 0; i != projection.length; ++i)\n",
       "                {\n",
       "                    var segment = projection[i];\n",
       "                    if(_in_range(segment.range.min, range, segment.range.max))\n",
       "                        return true;\n",
       "                }\n",
       "                return false;\n",
       "            }\n",
       "\n",
       "            function to_domain(range, projection)\n",
       "            {\n",
       "                for(var i = 0; i != projection.length; ++i)\n",
       "                {\n",
       "                    var segment = projection[i];\n",
       "                    if(_in_range(segment.range.bounds.min, range, segment.range.bounds.max))\n",
       "                    {\n",
       "                        if(segment.scale == \"linear\")\n",
       "                        {\n",
       "                            var amount = (range - segment.range.min) / (segment.range.max - segment.range.min);\n",
       "                            return _mix(segment.domain.min, segment.domain.max, amount)\n",
       "                        }\n",
       "                        else if(segment.scale[0] == \"log\")\n",
       "                        {\n",
       "                            var amount = (range - segment.range.min) / (segment.range.max - segment.range.min);\n",
       "                            var base = segment.scale[1];\n",
       "                            return _sign(segment.domain.min) * Math.pow(base, _mix(_log(segment.domain.min, base), _log(segment.domain.max, base), amount));\n",
       "                        }\n",
       "                    }\n",
       "                }\n",
       "            }\n",
       "\n",
       "            function display_coordinates(e)\n",
       "            {\n",
       "                var current = svg.createSVGPoint();\n",
       "                current.x = e.clientX;\n",
       "                current.y = e.clientY;\n",
       "\n",
       "                for(var axis_id in axes)\n",
       "                {\n",
       "                    var axis = document.querySelector(\"#\" + axis_id);\n",
       "                    var coordinates = axis.querySelector(\".toyplot-coordinates-Axis-coordinates\");\n",
       "                    if(coordinates)\n",
       "                    {\n",
       "                        var projection = axes[axis_id];\n",
       "                        var local = current.matrixTransform(axis.getScreenCTM().inverse());\n",
       "                        if(inside(local.x, projection))\n",
       "                        {\n",
       "                            var domain = to_domain(local.x, projection);\n",
       "                            coordinates.style.visibility = \"visible\";\n",
       "                            coordinates.setAttribute(\"transform\", \"translate(\" + local.x + \")\");\n",
       "                            var text = coordinates.querySelector(\"text\");\n",
       "                            text.textContent = domain.toFixed(2);\n",
       "                        }\n",
       "                        else\n",
       "                        {\n",
       "                            coordinates.style.visibility= \"hidden\";\n",
       "                        }\n",
       "                    }\n",
       "                }\n",
       "            }\n",
       "\n",
       "            var root_id = \"te2a0575e57df475bb51ba48c7c4fa6d8\";\n",
       "            var axes = {\"t0e7faf20bb754b1ca8759d55a1fa4d5b\": [{\"domain\": {\"bounds\": {\"max\": Infinity, \"min\": -Infinity}, \"max\": 4.0, \"min\": 0.0}, \"range\": {\"bounds\": {\"max\": Infinity, \"min\": -Infinity}, \"max\": 400.0, \"min\": 0.0}, \"scale\": \"linear\"}], \"t907d18fe8a2248048f9a2aa44e92b5c5\": [{\"domain\": {\"bounds\": {\"max\": Infinity, \"min\": -Infinity}, \"max\": 0.9000000000000001, \"min\": 0.0}, \"range\": {\"bounds\": {\"max\": Infinity, \"min\": -Infinity}, \"max\": 200.0, \"min\": 0.0}, \"scale\": \"linear\"}]};\n",
       "\n",
       "            var svg = document.querySelector(\"#\" + root_id + \" svg\");\n",
       "            svg.addEventListener(\"click\", display_coordinates);\n",
       "        })();\n",
       "        </script></div></div>"
      ]
     },
     "metadata": {},
     "output_type": "display_data"
    }
   ],
   "source": [
    "aggregator = points\n",
    "comparator = diff_l1\n",
    "\n",
    "number_permutations = 1000\n",
    "\n",
    "# compute test statistic based on generated data\n",
    "Tstar, valueA, valueB = compute_diff(votes_A, votes_B, aggregator, comparator)\n",
    "# compute permutation test statistics assuming voters in 2 groups are equal\n",
    "Tperms = [permutation_test(votes_A, votes_B, aggregator, comparator) for _ in range(number_permutations)]\n",
    "\n",
    "canvas = tp.Canvas(500, 300)\n",
    "axes = canvas.cartesian(xlabel=\"Test statistic\", ylabel=\"Density under null\", label=\"Histogram of permutation test\")\n",
    "axes.bars(np.histogram(Tperms, bins=30, normed=True))\n",
    "axes.vlines([Tstar], color=\"red\")"
   ]
  },
  {
   "cell_type": "code",
   "execution_count": 50,
   "metadata": {},
   "outputs": [
    {
     "name": "stdout",
     "output_type": "stream",
     "text": [
      "Probability observing T* or more extreme under the null hypothesis: 1.00e-03\n"
     ]
    }
   ],
   "source": [
    "print(\"Probability observing T* or more extreme under the null hypothesis: {:.2e}\".format(pvalue(Tstar, Tperms)))"
   ]
  }
 ],
 "metadata": {
  "kernelspec": {
   "display_name": "Python 3",
   "language": "python",
   "name": "python3"
  },
  "language_info": {
   "codemirror_mode": {
    "name": "ipython",
    "version": 3
   },
   "file_extension": ".py",
   "mimetype": "text/x-python",
   "name": "python",
   "nbconvert_exporter": "python",
   "pygments_lexer": "ipython3",
   "version": "3.6.2"
  }
 },
 "nbformat": 4,
 "nbformat_minor": 1
}
